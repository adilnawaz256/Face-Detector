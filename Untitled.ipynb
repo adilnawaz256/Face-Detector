{
 "cells": [
  {
   "cell_type": "code",
   "execution_count": 14,
   "id": "783d1d16",
   "metadata": {},
   "outputs": [
    {
     "name": "stdout",
     "output_type": "stream",
     "text": [
      "Completed\n"
     ]
    }
   ],
   "source": [
    "import cv2\n",
    "from random import randrange\n",
    "# Load some pre trained data from the open cv\n",
    "trainedface_data = cv2.CascadeClassifier('haarcascade_frontalface_default.xml')\n",
    "# choose the img for detector\n",
    "img = cv2.imread('family.jpg')\n",
    "# Most to convert into a gray color\n",
    "grayscaled_img = cv2.cvtColor(img , cv2.COLOR_BGR2GRAY)\n",
    "# Find the coordinates of image \n",
    "faceCordinates = trainedface_data.detectMultiScale(grayscaled_img)\n",
    "for (x , y , w , h) in faceCordinates:\n",
    "    cv2.rectangle(img , (x,y) , (x+w , y+h), (randrange(256),randrange(256),randrange(256)) , 2)\n",
    "cv2.imshow(\"Robert Downey jr\" , img)\n",
    "cv2.waitKey()\n",
    "print(\"Completed\")"
   ]
  },
  {
   "cell_type": "code",
   "execution_count": 2,
   "id": "450ba285",
   "metadata": {},
   "outputs": [
    {
     "name": "stdout",
     "output_type": "stream",
     "text": [
      "Completed\n"
     ]
    }
   ],
   "source": [
    "import cv2\n",
    "from random import randrange\n",
    "webcam = cv2.VideoCapture(0)\n",
    "trainedface_data = cv2.CascadeClassifier('haarcascade_frontalface_default.xml')\n",
    "while True:\n",
    "    # Read the current frame\n",
    "    successful_frame_read , frame = webcam.read()\n",
    "    grayscaled_img = cv2.cvtColor(frame , cv2.COLOR_BGR2GRAY)\n",
    "    facecordinates =trainedface_data.detectMultiScale(grayscaled_img) \n",
    "    for (x , y , w , h) in  facecordinates:\n",
    "        cv2.rectangle(frame , (x,y) , (x+w , y+h), (randrange(256),randrange(256),randrange(256)) , 2)\n",
    "    \n",
    "    cv2.imshow(\"Robert Downey jr\",frame)\n",
    "    \n",
    "    key = cv2.waitKey(1)\n",
    "    if key == 81 or key ==113:\n",
    "        break\n",
    "        \n",
    "webcam.release()        \n",
    "print(\"Completed\")\n",
    "    \n"
   ]
  },
  {
   "cell_type": "code",
   "execution_count": null,
   "id": "a8dd50ff",
   "metadata": {},
   "outputs": [],
   "source": []
  },
  {
   "cell_type": "code",
   "execution_count": null,
   "id": "29d3cc85",
   "metadata": {},
   "outputs": [],
   "source": []
  }
 ],
 "metadata": {
  "kernelspec": {
   "display_name": "Python 3 (ipykernel)",
   "language": "python",
   "name": "python3"
  },
  "language_info": {
   "codemirror_mode": {
    "name": "ipython",
    "version": 3
   },
   "file_extension": ".py",
   "mimetype": "text/x-python",
   "name": "python",
   "nbconvert_exporter": "python",
   "pygments_lexer": "ipython3",
   "version": "3.11.1"
  }
 },
 "nbformat": 4,
 "nbformat_minor": 5
}
